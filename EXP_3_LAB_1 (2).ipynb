{
 "cells": [
  {
   "cell_type": "markdown",
   "metadata": {
    "id": "Y1p7NTFPINQD"
   },
   "source": [
    "---\n",
    "\n",
    "---\n",
    "\n",
    "\n",
    "Código para análise de dados do Experimento 3 de Laboratório de Física I\n",
    "\n",
    "Feito pelo aluno\n",
    "\n",
    " Vinícius dos Passos de Souza, RA: 11201922119\n",
    "\n",
    "---\n",
    "\n"
   ]
  },
  {
   "cell_type": "markdown",
   "metadata": {
    "id": "lAuefR9LHZ6I"
   },
   "source": [
    "**Para este experimento os ajustes de funções foram feitos com a função Scipy** "
   ]
  },
  {
   "cell_type": "markdown",
   "metadata": {
    "id": "kz-xUmU69sXx"
   },
   "source": [
    "Para este experimento foram feitas diversas medidas que devem ser analisadas separadamente, por isso esse código terá as partes."
   ]
  },
  {
   "cell_type": "markdown",
   "metadata": {
    "id": "AuGCCzCrjEeM"
   },
   "source": [
    "**Análise de pequenas oscilações quando $z =0.33450 \\pm 0.00005$**"
   ]
  },
  {
   "cell_type": "code",
   "execution_count": 1,
   "metadata": {
    "colab": {
     "base_uri": "https://localhost:8080/",
     "height": 397
    },
    "id": "hBuXYZCT60Qk",
    "outputId": "599521e9-418b-4590-da9e-29c75d4534b8"
   },
   "outputs": [],
   "source": [
    "#Adicionar excel aqui e ler ele\n",
    "import pandas as pd\n",
    "data1 = pd.read_csv('Dados1\\conf_1_pos_angular_1.txt',sep =\"\t\")\n",
    "\n",
    "the1 = data1['Posicao angular ( rad )'].values\n",
    "t1=data1['Tempo ( s )'].values"
   ]
  },
  {
   "cell_type": "markdown",
   "metadata": {},
   "source": [
    "**ACHANDO Picos COM SCIPY**\n"
   ]
  },
  {
   "cell_type": "code",
   "execution_count": 2,
   "metadata": {},
   "outputs": [
    {
     "name": "stdout",
     "output_type": "stream",
     "text": [
      "\\( 2.0\\)& \\(0.272\\)\\\\ \n",
      "\\( 3.16\\)& \\(0.27\\)\\\\ \n",
      "\\( 4.32\\)& \\(0.269\\)\\\\ \n",
      "\\( 5.475\\)& \\(0.265\\)\\\\ \n",
      "\\( 6.635\\)& \\(0.264\\)\\\\ \n",
      "\\( 7.79\\)& \\(0.262\\)\\\\ \n",
      "\\( 8.95\\)& \\(0.261\\)\\\\ \n",
      "\\( 10.105\\)& \\(0.259\\)\\\\ \n",
      "\\( 11.265\\)& \\(0.258\\)\\\\ \n",
      "\\( 12.425\\)& \\(0.256\\)\\\\ \n"
     ]
    }
   ],
   "source": [
    "from scipy.signal import find_peaks\n",
    "import numpy as np\n",
    "\n",
    "peaks = find_peaks(the1,height=0)\n",
    "ind = peaks[0]\n",
    "#variaveis que vou usar\n",
    "th1=np.ones(len(ind))\n",
    "t_peaks = np.ones(len(ind))\n",
    "\n",
    "#arrumar tempos\n",
    "u= 0\n",
    "for i in ind:\n",
    "    t_peaks[u]=t1[i]\n",
    "    th1[u] = the1[i]\n",
    "    u=u+1\n",
    "for i in range(10):\n",
    "    print(f'\\( {round(t_peaks[i],3)}\\)& \\({round(th1[i],3)}\\)\\\\\\ ')"
   ]
  },
  {
   "cell_type": "code",
   "execution_count": 3,
   "metadata": {},
   "outputs": [
    {
     "data": {
      "image/png": "[encoded data removed]",
      "text/plain": [
       "<Figure size 432x288 with 1 Axes>"
      ]
     },
     "metadata": {
      "needs_background": "light"
     },
     "output_type": "display_data"
    }
   ],
   "source": [
    "from matplotlib import pyplot as plt\n",
    "\n",
    "t=np.linspace(0,1000,10)\n",
    "plt.plot(t1,the1,'o',color='gray')\n",
    "plt.plot(t_peaks, th1, \"x\",color='red')\n",
    "\n",
    "\n",
    "plt.ylabel('Ângulo (rad)')\n",
    "plt.xlabel('Tempo percorrido (s)')\n",
    "#plt.ylim(0,0.27)\n",
    "plt.xlim(2,15)\n",
    "plt.title('Ângulo(rad) VS Tempo percorrido (s)')\n",
    "plt.show()"
   ]
  },
  {
   "cell_type": "markdown",
   "metadata": {},
   "source": [
    "Achar período dados os tempos"
   ]
  },
  {
   "cell_type": "code",
   "execution_count": 4,
   "metadata": {},
   "outputs": [
    {
     "name": "stdout",
     "output_type": "stream",
     "text": [
      "[1.16, 1.16, 1.155, 1.16, 1.155, 1.16, 1.155, 1.16, 1.16, 1.155, 1.16, 1.155, 1.16, 1.155, 1.16, 1.155, 1.16, 1.155, 1.16, 1.155]\n"
     ]
    }
   ],
   "source": [
    "T1 = []\n",
    "\n",
    "for i in range(len(t_peaks)-1):\n",
    "    T1.append(round(t_peaks[i+1]-t_peaks[i],3))\n",
    "    \n",
    "print(T1)"
   ]
  },
  {
   "cell_type": "markdown",
   "metadata": {},
   "source": [
    "**Cálculo da Média do periodo e do Desvio padrão**"
   ]
  },
  {
   "cell_type": "code",
   "execution_count": 5,
   "metadata": {},
   "outputs": [
    {
     "name": "stdout",
     "output_type": "stream",
     "text": [
      "T = 1.1578+-0.0006\n"
     ]
    }
   ],
   "source": [
    "sum = 0\n",
    "et=0\n",
    "for i in T1:\n",
    "    sum = sum+i\n",
    "    \n",
    "s =sum/len(T1)\n",
    "\n",
    "for i in T1:\n",
    "    et= et+ (s-i)**2\n",
    "eT1= np.sqrt(et/(len(T1)*(len(T1)-1)))\n",
    "print(f'T = {round(s,4)}+-{round(eT1,4)}')"
   ]
  },
  {
   "cell_type": "markdown",
   "metadata": {},
   "source": [
    "**Mesmo do que foi feito antes, porém para um momento de inércia diferente**\n",
    "\n",
    "$z_2 = 15.600(5)cm$"
   ]
  },
  {
   "cell_type": "code",
   "execution_count": 6,
   "metadata": {},
   "outputs": [],
   "source": [
    "#Adicionar excel aqui e ler ele\n",
    "import pandas as pd\n",
    "data2 = pd.read_csv('Dados2\\conf_2_pos_angular_1.txt',sep =\"\t\")\n",
    "\n",
    "the2 = data2['Posicao angular ( rad )'].values\n",
    "t2=data2['Tempo ( s )'].values"
   ]
  },
  {
   "cell_type": "code",
   "execution_count": 7,
   "metadata": {},
   "outputs": [
    {
     "name": "stdout",
     "output_type": "stream",
     "text": [
      "\\( 1.04\\)& \\(0.248\\)\\\\ \n",
      "\\( 1.905\\)& \\(0.245\\)\\\\ \n",
      "\\( 2.775\\)& \\(0.242\\)\\\\ \n",
      "\\( 3.645\\)& \\(0.239\\)\\\\ \n",
      "\\( 4.51\\)& \\(0.236\\)\\\\ \n",
      "\\( 5.38\\)& \\(0.232\\)\\\\ \n",
      "\\( 6.245\\)& \\(0.229\\)\\\\ \n",
      "\\( 7.11\\)& \\(0.226\\)\\\\ \n",
      "\\( 7.98\\)& \\(0.223\\)\\\\ \n",
      "\\( 8.845\\)& \\(0.22\\)\\\\ \n"
     ]
    }
   ],
   "source": [
    "from scipy.signal import find_peaks\n",
    "import numpy as np\n",
    "\n",
    "peaks = find_peaks(the2,height=0)\n",
    "ind = peaks[0]\n",
    "#variaveis que vou usar\n",
    "th2=np.ones(len(ind))\n",
    "t_peaks = np.ones(len(ind))\n",
    "\n",
    "#arrumar tempos\n",
    "u= 0\n",
    "for i in ind:\n",
    "    t_peaks[u]=t2[i]\n",
    "    th2[u] = the2[i]\n",
    "    u=u+1\n",
    "for i in range(10):\n",
    "    print(f'\\( {round(t_peaks[i],3)}\\)& \\({round(th2[i],3)}\\)\\\\\\ ')"
   ]
  },
  {
   "cell_type": "code",
   "execution_count": 8,
   "metadata": {},
   "outputs": [
    {
     "data": {
      "image/png": "[encoded data removed]",
      "text/plain": [
       "<Figure size 432x288 with 1 Axes>"
      ]
     },
     "metadata": {
      "needs_background": "light"
     },
     "output_type": "display_data"
    }
   ],
   "source": [
    "from matplotlib import pyplot as plt\n",
    "\n",
    "t=np.linspace(0,1000,10)\n",
    "plt.plot(t2,the2,'o',color='gray')\n",
    "plt.plot(t_peaks, th2, \"x\",color='red')\n",
    "\n",
    "\n",
    "plt.ylabel('Ângulo (rad)')\n",
    "plt.xlabel('Tempo percorrido (s)')\n",
    "#plt.ylim(0,0.27)\n",
    "plt.xlim(2,15)\n",
    "plt.title('Ângulo(rad) VS Tempo percorrido (s)')\n",
    "plt.show()"
   ]
  },
  {
   "cell_type": "code",
   "execution_count": 9,
   "metadata": {},
   "outputs": [
    {
     "name": "stdout",
     "output_type": "stream",
     "text": [
      "[0.865, 0.87, 0.87, 0.865, 0.87, 0.865, 0.865, 0.87, 0.865, 0.87, 0.865, 0.865, 0.865, 0.87, 0.865, 0.87]\n"
     ]
    }
   ],
   "source": [
    "T2 = []\n",
    "\n",
    "for i in range(len(t_peaks)-1):\n",
    "    T2.append(round(t_peaks[i+1]-t_peaks[i],3))\n",
    "    \n",
    "print(T2)"
   ]
  },
  {
   "cell_type": "code",
   "execution_count": 10,
   "metadata": {},
   "outputs": [
    {
     "name": "stdout",
     "output_type": "stream",
     "text": [
      "T = 0.8672+-0.0006\n"
     ]
    }
   ],
   "source": [
    "sum = 0\n",
    "et2=0\n",
    "for i in T2:\n",
    "    sum = sum+i\n",
    "    \n",
    "s2 =sum/len(T2)\n",
    "\n",
    "for i in T2:\n",
    "    et2= et2+ (s2-i)**2\n",
    "eT2= np.sqrt(et2/(len(T2)*(len(T2)-1)))\n",
    "print(f'T = {round(s2,4)}+-{round(eT2,4)}')"
   ]
  },
  {
   "cell_type": "markdown",
   "metadata": {
    "id": "MXBiMuteBHaK"
   },
   "source": [
    "**Dados medidos no começo do experimento**"
   ]
  },
  {
   "cell_type": "code",
   "execution_count": 11,
   "metadata": {
    "id": "-5elyTB5rKkj"
   },
   "outputs": [
    {
     "name": "stdout",
     "output_type": "stream",
     "text": [
      "[0.29532564 0.16559021]\n",
      "[4.45257075e-05 4.22827352e-05]\n"
     ]
    }
   ],
   "source": [
    "#Tudo no SI\n",
    "u = 0.004\n",
    "eu = 0.00003\n",
    "\n",
    "r = 0.002\n",
    "er = 0.00003\n",
    "\n",
    "R=0.01263\n",
    "eR=0.00003\n",
    "\n",
    "R_1 =0.00405\n",
    "eR_1 =0.00003\n",
    "\n",
    "M = 0.02839\n",
    "eM = 0.00002\n",
    "\n",
    "m = 0.07553\n",
    "em = 0.00001\n",
    "\n",
    "l=0.35500\n",
    "el=0.00005\n",
    "\n",
    "L = 0.026\n",
    "eL = 0.00005\n",
    "\n",
    "h = 0.02\n",
    "eh=0.00005\n",
    "\n",
    "g=9.8\n",
    "\n",
    "z = np.array([0.3345,0.156])\n",
    "ez = np.array([0.00005,0.00005])\n",
    "\n",
    "Lcm= np.ones(2)\n",
    "eLcm= np.ones(2)\n",
    "for i in range(2):\n",
    "    Lcm[i]= (M*(l-L)/2+m*(h/2+z[i]))/(M+m)\n",
    "    eLcm[i] = np.sqrt(2*(M*el/(2*M+2*m))**2+(m*eh/(2*M+2*m))**2+(m*ez[i]/(M+m))**2 +2*em**2*((l-L-(M*(l-L)+m*(h/2+z[i])*2)/(4*(M+m)**2))**2 ))\n",
    "print(Lcm)\n",
    "print(eLcm)"
   ]
  },
  {
   "cell_type": "markdown",
   "metadata": {},
   "source": [
    "CalcuLAR VALOR EXPERIMENTAL DE I"
   ]
  },
  {
   "cell_type": "code",
   "execution_count": 12,
   "metadata": {},
   "outputs": [
    {
     "name": "stdout",
     "output_type": "stream",
     "text": [
      "I_EXP = 0.010211656627007149+-3.739962615309536e-05\n",
      "I_EXP = 0.0032123744404291914+-1.670140654192873e-05\n"
     ]
    }
   ],
   "source": [
    "print(f'I_EXP = {s**2*(M+m)*g*Lcm[0]/(4*np.pi**2)}+-{np.sqrt( (s*(M+m)*g*Lcm[0]*eT1)**2 + 2*(s**2*g*Lcm[0]*eM)**2+(s**2*(M+m)*g*eLcm[0])**2)/(2*np.pi)}')\n",
    "print(f'I_EXP = {s2**2*(M+m)*g*Lcm[1]/(4*np.pi**2)}+-{np.sqrt( (s2*(M+m)*g*Lcm[1]*eT2)**2 + 2*(s2**2*g*Lcm[1]*eM)**2+(s2**2*(M+m)*g*eLcm[1])**2)/(2*np.pi)}')\n",
    "I_e=s**2*(M+m)*g*Lcm[0]/(4*np.pi**2)\n",
    "eI_e=np.sqrt( (s*(M+m)*g*Lcm[0]*eT1)**2 + 2*(s**2*g*Lcm[0]*eM)**2+(s**2*(M+m)*g*eLcm[0])**2)/(2*np.pi)\n"
   ]
  },
  {
   "cell_type": "markdown",
   "metadata": {
    "id": "d8gdKCUdCeMa"
   },
   "source": [
    "---\n",
    "---\n",
    "---\n",
    "**Calcular Momento de Inercia para cada situação**\n",
    "\n",
    "Sabendo que $I_{sis} = m \\left (  \\frac{1}{3} h^2 + \\frac{1}{4}(R^2+R_i^2) + z^2\\right ) + M \\left ( \\frac{1}{4}(u^2+r^2) + \\frac{1}{3} (L^2-lL+l^2)\\right)$\n",
    "\n",
    "com altura do corpo metálico $h$, raios internos e externo da haste $r$ e $u$, raio do corpo metálico $R$, distância do corpo metálico ao pivo $z$ e alturas da haste $L$ e $l$.\n",
    "\n"
   ]
  },
  {
   "cell_type": "code",
   "execution_count": 13,
   "metadata": {
    "colab": {
     "base_uri": "https://localhost:8080/"
    },
    "id": "zgvpwJxdq-Uk",
    "outputId": "33e10631-38bd-4097-894b-3ec1ea8af6b9"
   },
   "outputs": [
    {
     "name": "stdout",
     "output_type": "stream",
     "text": [
      "I_1 = (0.009576+-3e-06)\n",
      "I_2 = (0.002963+-2e-06)\n"
     ]
    }
   ],
   "source": [
    "import numpy as np\n",
    "\n",
    "I=np.ones(len(z))\n",
    "eI = np.ones(len(z))\n",
    "for i in range(len(z)):\n",
    "  I[i] = m* (h**2/3+(R**2+R_1**2)/4+z[i]**2)+M*(1/4*(u**2+r**2)+1/3*(L**2-l*L+l**2)) \n",
    "  eI[i] = np.sqrt((em* (h**2/3+R**2/4+z[i]**2))**2 + (eM*(1/4*(u**2+r**2)+1/3*(L**2-l*L+l**2)))**2+(m* (h*2/3)*eh)**2 + m**2*(R*2/4*eR)**2 +m**2*(z[i]*2*ez[i])**2+ (M*(1/4*(u*2*eu)))**2+ (M*(1/4*(r*2*er)))**2 + (M*(1/3*(L*2-l)*eL))**2+(M*(1/3*(-L+l*2)*el)**2))\n",
    "  print(f'I_{i+1} = ({round(I[i],6)}+-{round(eI[i],6)})')"
   ]
  },
  {
   "cell_type": "markdown",
   "metadata": {},
   "source": [
    "Espero que Frequencia seja\n",
    "\n",
    "$\\omega^2 =\\frac{M_tgL_{CM}}{I} - \\frac{b^2}{4I^2}$"
   ]
  },
  {
   "cell_type": "code",
   "execution_count": 14,
   "metadata": {},
   "outputs": [
    {
     "name": "stdout",
     "output_type": "stream",
     "text": [
      "w_1 = 5.604216939351943\n",
      "T_1=1.121153120083563\n",
      "w_2 = 7.543834459400807\n",
      "T_2=0.8328901357783305\n"
     ]
    }
   ],
   "source": [
    "for i in range(2):\n",
    "    w = np.sqrt((M+m)*g*Lcm[i]/I[i])\n",
    "    print(f'w_{i+1} = {w}')\n",
    "    print(f'T_{i+1}={2*np.pi/w}')"
   ]
  },
  {
   "cell_type": "markdown",
   "metadata": {
    "id": "Tf3NCJbZMIzf"
   },
   "source": [
    "---\n",
    "---\n",
    "---\n",
    "---\n",
    "---"
   ]
  },
  {
   "cell_type": "markdown",
   "metadata": {},
   "source": [
    "**Segunda parte do experimento, achar coeficiente de amortecimento**"
   ]
  },
  {
   "cell_type": "code",
   "execution_count": 15,
   "metadata": {},
   "outputs": [],
   "source": [
    "#Adicionar excel aqui e ler ele\n",
    "import pandas as pd\n",
    "data = pd.read_csv('DadosAtrito3\\conf_atrito_3_pos_angular_1.txt',sep =\"\t\")\n",
    "\n",
    "the = data['Posicao angular ( rad )'].values\n",
    "t=data['Tempo ( s )'].values\n"
   ]
  },
  {
   "cell_type": "code",
   "execution_count": 16,
   "metadata": {},
   "outputs": [
    {
     "name": "stdout",
     "output_type": "stream",
     "text": [
      "\\( 0.885\\)& \\(0.298\\)\\\\ \n",
      "\\( 2.175\\)& \\(0.094\\)\\\\ \n",
      "\\( 3.415\\)& \\(0.047\\)\\\\ \n",
      "\\( 4.655\\)& \\(0.022\\)\\\\ \n",
      "\\( 5.8\\)& \\(0.003\\)\\\\ \n",
      "\\( 6.66\\)& \\(0.005\\)\\\\ \n",
      "\\( 7.825\\)& \\(0.014\\)\\\\ \n",
      "\\( 9.05\\)& \\(0.02\\)\\\\ \n",
      "\\( 10.305\\)& \\(0.024\\)\\\\ \n",
      "\\( 11.53\\)& \\(0.022\\)\\\\ \n"
     ]
    }
   ],
   "source": [
    "from scipy.signal import find_peaks\n",
    "import numpy as np\n",
    "\n",
    "peaks = find_peaks(the,height=0)\n",
    "ind = peaks[0]\n",
    "#variaveis que vou usar\n",
    "th=np.ones(len(ind))\n",
    "t_peaks = np.ones(len(ind))\n",
    "\n",
    "#arrumar tempos\n",
    "u= 0\n",
    "for i in ind:\n",
    "    t_peaks[u]=t[i]\n",
    "    th[u] = the[i]\n",
    "    u=u+1\n",
    "for i in range(10):\n",
    "    print(f'\\( {round(t_peaks[i],3)}\\)& \\({round(th[i],3)}\\)\\\\\\ ')\n"
   ]
  },
  {
   "cell_type": "code",
   "execution_count": 21,
   "metadata": {},
   "outputs": [
    {
     "data": {
      "image/png": "[encoded data removed]",
      "text/plain": [
       "<Figure size 432x288 with 1 Axes>"
      ]
     },
     "metadata": {
      "needs_background": "light"
     },
     "output_type": "display_data"
    }
   ],
   "source": [
    "from matplotlib import pyplot as plt\n",
    "\n",
    "plt.plot(t,the,'o',color='gray')\n",
    "#plt.plot(t_peaks, th, \"x\",color='red')\n",
    "\n",
    "\n",
    "plt.ylabel('Ângulo (rad)')\n",
    "plt.xlabel('Tempo percorrido (s)')\n",
    "#plt.ylim(0,0.27)\n",
    "#plt.xlim(2,15)\n",
    "plt.title('Ângulo(rad) VS Tempo percorrido (s)')\n",
    "plt.show()"
   ]
  },
  {
   "cell_type": "markdown",
   "metadata": {},
   "source": [
    "**Agora fazer ajuste linear dos dados usando a função Scipy**"
   ]
  },
  {
   "cell_type": "code",
   "execution_count": 18,
   "metadata": {},
   "outputs": [
    {
     "name": "stdout",
     "output_type": "stream",
     "text": [
      "a=0.6036977454169519+-0.048385726810072395 \n",
      "b=0.8060595586428559+-0.06698490637697217 \n"
     ]
    }
   ],
   "source": [
    "from scipy.optimize import curve_fit\n",
    "from scipy import optimize \n",
    "\n",
    "\n",
    "def model_fit(x, a, b):\n",
    "    return a*np.e**(-b*x)\n",
    "\n",
    "parameters, covariance = curve_fit(model_fit,t_peaks, th,p0=[0.18,0.02])\n",
    "a_opt, b_opt= parameters \n",
    "std = np.sqrt(np.diag(covariance))\n",
    "print(f'a={a_opt}+-{std[0]} ')\n",
    "print(f'b={b_opt}+-{std[1]} ')\n"
   ]
  },
  {
   "cell_type": "code",
   "execution_count": 19,
   "metadata": {},
   "outputs": [
    {
     "data": {
      "image/png": "[encoded data removed]",
      "text/plain": [
       "<Figure size 432x288 with 1 Axes>"
      ]
     },
     "metadata": {
      "needs_background": "light"
     },
     "output_type": "display_data"
    }
   ],
   "source": [
    "\n",
    "\n",
    "plt.plot(t_peaks,th,'o',color='gray')\n",
    "plt.plot(t, model_fit(t,a_opt,b_opt), \":\",color='red')\n",
    "\n",
    "\n",
    "plt.ylabel('Ângulo (rad)')\n",
    "plt.xlabel('Tempo percorrido (s)')\n",
    "#plt.ylim(0,0.27)\n",
    "#plt.xlim(2,15)\n",
    "plt.title('Ângulo(rad) VS Tempo percorrido (s)')\n",
    "plt.show()"
   ]
  },
  {
   "cell_type": "code",
   "execution_count": 20,
   "metadata": {},
   "outputs": [
    {
     "name": "stdout",
     "output_type": "stream",
     "text": [
      "b = 0.016462406867555554+-0.0013693816859323828\n"
     ]
    }
   ],
   "source": [
    "print(f'b = {2*b_opt*I_e}+-{2*np.sqrt( (b_opt*eI_e)**2+ (I_e*std[1])**2)}')"
   ]
  },
  {
   "cell_type": "code",
   "execution_count": null,
   "metadata": {},
   "outputs": [],
   "source": []
  }
 ],
 "metadata": {
  "colab": {
   "collapsed_sections": [],
   "provenance": []
  },
  "kernelspec": {
   "display_name": "Python 3",
   "language": "python",
   "name": "python3"
  },
  "language_info": {
   "codemirror_mode": {
    "name": "ipython",
    "version": 3
   },
   "file_extension": ".py",
   "mimetype": "text/x-python",
   "name": "python",
   "nbconvert_exporter": "python",
   "pygments_lexer": "ipython3",
   "version": "3.8.8"
  }
 },
 "nbformat": 4,
 "nbformat_minor": 1
}
